{
 "cells": [
  {
   "cell_type": "markdown",
   "metadata": {},
   "source": [
    "# Software\n",
    "\n",
    "This section breifly describes the primary software used for conducting and preparing ligand docking simulations.\n",
    "\n",
    "## Rossetta\n",
    "\n",
    "The Rosetta suite was used to preform the actual ligand docking simulations. Rosetta was downloaded and compiled to a remote cluster where all simulations were ran.\n",
    "\n",
    "I often accessed the following resources when determining how to run Rosetta for ligand docking.\n",
    "\n",
    "1. [Rosetta ligand docking demo](https://www.rosettacommons.org/demos/latest/tutorials/ligand_docking/ligand_docking_tutorial)\n",
    "2. [Rosetta Ligand docking with flexible XML protocols](https://pubmed.ncbi.nlm.nih.gov/22183535/)\n",
    "3. [Rosetta Documentation](https://www.rosettacommons.org/docs/latest/Home)\n",
    "\n"
   ]
  },
  {
   "cell_type": "markdown",
   "metadata": {},
   "source": [
    "## BioChemicalLibrary (BCL)\n",
    "\n",
    "[BCL](http://www.meilerlab.org/bclcommons) was used for generating libraries of conformers (different possible conformations of a ligand) from one specific structure. These conformer libraries would then be given to Rosetta in order to simulate ligand flexibility. "
   ]
  },
  {
   "cell_type": "markdown",
   "metadata": {},
   "source": [
    "## Open Bable\n",
    "\n",
    "[Open Babel](http://openbabel.org/wiki/Main_Page) suite was used for one-off file conversions in cases where `sdf` files needed to be converted to `pdb` or similar operations."
   ]
  },
  {
   "cell_type": "markdown",
   "metadata": {},
   "source": [
    "## PyMol\n",
    "\n",
    "[PyMol](https://pymol.org/2/) was used to to visualize the results of ligand docking experiments, create images and present results."
   ]
  },
  {
   "cell_type": "markdown",
   "metadata": {},
   "source": [
    "## SLURM\n",
    "\n",
    "All significant compute (namely docking experiments) where ran using the workload manager SLURM. Some programs will not work (RDBC) if other workload managers are used."
   ]
  },
  {
   "cell_type": "markdown",
   "metadata": {},
   "source": [
    "## RDBC\n",
    "\n",
    "[Rosetta ligand docking batch job submission control and organizer](https://github.com/EthanHolleman/RDBC) is a Python command line program I created to help me submit organize and analysize large number of Rosetta docking simulations to the remote cluster's workload manager, SLURM. "
   ]
  },
  {
   "cell_type": "markdown",
   "metadata": {},
   "source": [
    "# General workflow\n",
    "\n",
    "This section describes the general procedure for running docking simulations to access the binding of a specific ligand to a specific protein target.\n",
    "\n",
    "## Prepare protein structure\n",
    "\n",
    "First, a ligand free protein structure was repacked using the `ligand_rpkmin.static.linuxgccrelease` program of the Rosetta suite. Repacking was repeated for 100 structures and the lowest energy structure is selected as the docking target. \n",
    "\n",
    "## Prepare ligand\n",
    "\n",
    "First, a file that describes the ligand needs to be aquired. For `RTX ...` drugs these was just a matter of using the `sdf` files. If the simulation involved docking a ligand / peptide from an existing co-crystal structure Pymol was used to create a `pdb` file containing only the ligand / peptide. Open Bable was then used to convert the `pdb` file to `sdf` format. \n",
    "\n",
    "Next, the ligand conformer library and Rosetta `params` files was generated for the to-be-docked ligand. This simulates ligand flexibility during docking. This was usually completed with [this Python script](https://gist.github.com/EthanHolleman/4c306ce7985fb2887c4fecef0f723988) which wraps the BCL `molecule:ConformerGenerator` program and the Rosetta `molfile_to_params.py` located in `main/source/scripts/python/public/` of a standard Rosetta installation. "
   ]
  },
  {
   "cell_type": "markdown",
   "metadata": {},
   "source": [
    "## Prepare RDBC files\n",
    "\n",
    "I almost always used [RDBC](https://github.com/EthanHolleman/RDBC) to actually run the docking simulations on the remote cluster. RDBC works by using templates of files that would be required for individual jobs and filling them out based on the command line arguments to run many jobs. One of the most important is the Rosetta XML docking protocol which determines exactly what Rosetta does during the simulations. For random docking experiments (where the ligand is positioned at a random position around the protein before docking) I used the [random_docker_template.xml](https://github.com/EthanHolleman/RDBC/blob/main/handler/xml_templates/random_docker.xml). "
   ]
  },
  {
   "cell_type": "markdown",
   "metadata": {},
   "source": [
    "## Submit jobs with an RDBC command\n",
    "\n",
    "Once all nessecary files are created the Rosetta docking simulations where submitted to SLURM using RDBC. Below is an example command I used to for randomly docking the NPEYp peptide to the 1OY2 shc structure.\n",
    "\n",
    "```\n",
    "python3 ~/software/RDBC/rh.py -l ~/jobs/dock_random_NPEYp/ligand \\\n",
    "-p ~/jobs/dock_random_NPEYp/protein/Shc1-PTB_1OY2_0061.pdb \\\n",
    "-o ~/jobs/dock_random_NPEYp/results \\\n",
    "-e ~/software/rosetta_bin_linux_2020.08.61146_bundle/\\\n",
    "main/source/bin/rosetta_scripts.static.linuxgccrelease \\\n",
    "-i 2000 \\\n",
    "-op ~/software/RDBC/handler/xml_templates/random_docker.xml \\\n",
    "-b ~/jobs/dock_random_NPEYp/templates/NPEYp.sbatch \\\n",
    "-mi 10\n",
    "```"
   ]
  },
  {
   "cell_type": "markdown",
   "metadata": {},
   "source": [
    "- -l: Location of my ligand preparation files produced during the *prepare ligand* step. This included\n",
    "    - NPEYp_conformers.pdb: Conformer structures generated with BCL.\n",
    "    - NPEYp.params: Rosetta params file generated by molfile_to_params.py\n",
    "    - NPEYp.pdb: PDB structure of the NPEYp ligand converted from a provided sdf file.\n",
    "- -p: Path to target protein. Selected during the *prepare protein structure* step.\n",
    "- -o: Output path. Where I want the results of simulations to be written to.\n",
    "- -e: Path to Rosetta scripts exe.\n",
    "- -i: Number of individual simulations each job should run. This is equivlanet to the number of poses Rosetta will produce.\n",
    "- -op: Path to Rosetta XML protocol file. In this case I used one designed for random docking.\n",
    "- -b: Path to template `batch` file. This is filled out for each individual job in order to submit many smaller jobs instead of one larger one. This avoids issues if the reasrouces you can use for one job are limited (as was my case).\n",
    "- -mi: Tells RDBC to submit 10 copies of this job, which allows for simulating more poses when resources for individual jobs are constrained. "
   ]
  },
  {
   "cell_type": "markdown",
   "metadata": {},
   "source": [
    "Then we just wait for our jobs to complete."
   ]
  },
  {
   "cell_type": "markdown",
   "metadata": {},
   "source": [
    "## Aggregate run copies\n",
    "\n",
    "For random docking that submits multible copies of the same job, I found it easer to aggregate the results into one large file that is easier to work with for plotting in programs like R. \n",
    "\n",
    "If RDBC was used to submit such a job, it can also be used for aggregating the results using the `-mai` argument. If my jobs created by the example command had just finished they could be aggregated into one large results tab seperated file called `NPEYp.agg.tsv` with the command below.\n",
    "\n",
    "```\n",
    "RDBC/rh.py -o /home/ethollem/jobs/dock_random_NPEYp/results -mia NPEYp.agg.tsv\n",
    "```\n"
   ]
  },
  {
   "cell_type": "markdown",
   "metadata": {},
   "source": [
    "Each row in this file represented one completed docking simulation. Simulations can be uniquely identified by comparing both the `description` and the `iter_id columns`."
   ]
  },
  {
   "cell_type": "markdown",
   "metadata": {},
   "source": [
    "## Add additional data to aggregate score file\n",
    "\n",
    "In addition to the metrics produced by Rosetta during the docking simulations we are also interested in having some additional data points listed below.\n",
    "\n",
    "1. Average ligand position: An easy to calculate metric that describes the general location of the ligand in space. Will include three columns, one for each coordinate (x, y, z).\n",
    "2. Path to pdb file: This is to make viewing the pose easier later on. This will be a column that contains the path to the pdb file representing the final results of the docking simulation. It should be noted that this path will be specific to one machine.\n",
    "3. Distance to PTB domain. Using the average ligand position we can calculate an approximate euclidian distance to the PTB dommain. This value is unsigned. \n",
    "\n",
    "These data points can be added to aggregated score files using the [extend_agg_file.r](https://gist.github.com/EthanHolleman/fadebd0273c923a243c3315203a2f711) R script, namely the `extend_agg_file` function contained therein. This function will produce a `RDS` file that can then be opened using the R function `readRDS`.\n"
   ]
  },
  {
   "cell_type": "markdown",
   "metadata": {},
   "source": [
    "## Optionally create \"energy well\" plots"
   ]
  },
  {
   "cell_type": "markdown",
   "metadata": {},
   "source": [
    "While not strictly required for the analysis you can use the [energy_well.r](https://gist.github.com/EthanHolleman/a7aaaf41926cb5f13ab32c62b79d9fc0) R script in order to create plots that compare distance to the PTB domain (or whatever location is specified when running [extend_agg_file.r](https://gist.github.com/EthanHolleman/fadebd0273c923a243c3315203a2f711)) to total score and interface delta X of all, or a subset of the simulations. An example plot selecting for the top 15% of results is shown below."
   ]
  },
  {
   "cell_type": "markdown",
   "metadata": {},
   "source": [
    "![](images/energy_well_example.png)"
   ]
  },
  {
   "cell_type": "markdown",
   "metadata": {},
   "source": [
    "## Identify best poses\n",
    "\n",
    "With all the results of the docking simulations aggregated into one file, they can be reviewed using any program capable of reading large deliminated text files (I will be using R for the rest of this document).\n",
    "\n",
    "Two primary metrics where used to access to docking quality of a specific pose.\n",
    "\n",
    "1. `total_score`: A measure of the overall stability of the protein-ligand complex. Lower values indicate increased stability.\n",
    "2. `interface_delta_X`: The difference in protein structure stability with and without the ligand in complex. Lower values indicate the ligand has a greater stabilizing effect on the protein structure upon binding and therefore potentially higher affinity."
   ]
  },
  {
   "cell_type": "markdown",
   "metadata": {},
   "source": [
    "In order to balance out the two metrics I also assessed poses using a combined metric which considered both interface delta X and total score. This is because I saw a non-zero number of cases where one metric would be very low and the other very high or vice versa."
   ]
  },
  {
   "cell_type": "markdown",
   "metadata": {},
   "source": [
    "![](images/combined_seq.png)"
   ]
  },
  {
   "cell_type": "markdown",
   "metadata": {},
   "source": [
    "Where\n",
    "\n",
    "- $s_{t}$ = total score\n",
    "- $i_{\\Delta}$ = interface delta X"
   ]
  },
  {
   "cell_type": "markdown",
   "metadata": {},
   "source": [
    "This normalizes both total score and interface delta x between -1 and 1 and then adds them together. Poses with both low interface delta X and total score will be ranked higher."
   ]
  },
  {
   "cell_type": "markdown",
   "metadata": {},
   "source": [
    "I haven't really seen a combined metric like this used very often, or at least not explicitly in the papers I looked through so I mainly used it as an indicator to access which primary metric might make more sense to use."
   ]
  },
  {
   "cell_type": "markdown",
   "metadata": {},
   "source": [
    "# Results\n",
    "\n",
    "This section describes the results of specific docking simulations and the PyMol session file which accompanies this document. \n",
    "\n",
    "## Docking RTX60933293\n",
    "\n",
    "RTX60933293 was docked into a repacked version of `1OY2` (`Shc1-PTB_1OY2_0061.pdb`) using a library of 100 possible conformers and randomized starting positions. 27847 different poses were scored.\n",
    "\n",
    "### Best poses by total score\n",
    "\n",
    "| Filename                                | Total Score |\n",
    "|-----------------------------------------|-------------|\n",
    "| Shc1-PTB_1OY2_0061_RTX60933293_3913.pdb | -176.816    |\n",
    "| Shc1-PTB_1OY2_0061_RTX60933293_2879.pdb | -173.871    |\n",
    "| Shc1-PTB_1OY2_0061_RTX60933293_0313.pdb | -172.901    |\n",
    "| Shc1-PTB_1OY2_0061_RTX60933293_3287.pdb | -169.206    |\n",
    "| Shc1-PTB_1OY2_0061_RTX60933293_3917.pdb | -169.001    |\n",
    "| Shc1-PTB_1OY2_0061_RTX60933293_2406.pdb | -168.58     |\n",
    "| Shc1-PTB_1OY2_0061_RTX60933293_3818.pdb | -167.529    |\n",
    "| Shc1-PTB_1OY2_0061_RTX60933293_1493.pdb | -166.992    |\n",
    "| Shc1-PTB_1OY2_0061_RTX60933293_0693.pdb | -166.676    |\n",
    "| Shc1-PTB_1OY2_0061_RTX60933293_1167.pdb | -166.612    |\n",
    "\n",
    "[Link to Pymol Session](https://github.com/EthanHolleman/docking_results/blob/main/data/RTX60933293/best_poses_pymol/total_score/top_10_ts.pse)\n",
    "\n",
    "Eight of the top ten ligands localize in a \"hole\" near residue 76 when ranked by total score.\n",
    "\n",
    "![](images/RTX60933293_ts.png)\n",
    "\n",
    "### Best poses by interface delta X\n",
    "\n",
    "| Filename                                | Interface Delta X |\n",
    "|-----------------------------------------|-------------------|\n",
    "| Shc1-PTB_1OY2_0061_RTX60933293_0388.pdb | -22.15            |\n",
    "| Shc1-PTB_1OY2_0061_RTX60933293_3583.pdb | -21.459           |\n",
    "| Shc1-PTB_1OY2_0061_RTX60933293_1898.pdb | -21.169           |\n",
    "| Shc1-PTB_1OY2_0061_RTX60933293_2943.pdb | -20.351           |\n",
    "| Shc1-PTB_1OY2_0061_RTX60933293_2844.pdb | -20.236           |\n",
    "| Shc1-PTB_1OY2_0061_RTX60933293_0260.pdb | -20.069           |\n",
    "| Shc1-PTB_1OY2_0061_RTX60933293_1709.pdb | -20.056           |\n",
    "| Shc1-PTB_1OY2_0061_RTX60933293_0925.pdb | -18.502           |\n",
    "| Shc1-PTB_1OY2_0061_RTX60933293_1029.pdb | -18.345           |\n",
    "| Shc1-PTB_1OY2_0061_RTX60933293_0839.pdb | -18.107           |\n",
    "\n",
    "[Link to Pymol Session](https://github.com/EthanHolleman/docking_results/blob/main/data/RTX60933293/best_poses_pymol/interface_delta_x/best_poses_idx.pse)"
   ]
  },
  {
   "cell_type": "markdown",
   "metadata": {},
   "source": [
    "When ranking poses by interface delta X, ligands cluster to a pocket on the other side of the protein, in closer proximity to the beta sheet."
   ]
  },
  {
   "cell_type": "markdown",
   "metadata": {},
   "source": [
    "![](images/RTX60933293_id.png)"
   ]
  },
  {
   "cell_type": "markdown",
   "metadata": {},
   "source": [
    "However, when using the combined metric, all of these poses disappear from the top 10, indicating while the interface delta X was low, the total score was high.\n",
    "\n",
    "![](images/RTX60933293_c.png)"
   ]
  },
  {
   "cell_type": "markdown",
   "metadata": {},
   "source": [
    "## RTX73145433\n",
    "\n",
    "RTX73145433 was docked into a repacked version of `1OY2` (`Shc1-PTB_1OY2_0061.pdb`) using a library of 100 possible conformers and randomized starting positions. 39561 different poses were scored. \n",
    "\n",
    "### Best poses by total score\n",
    "\n",
    "| Filepath                                | Total Score |\n",
    "|-----------------------------------------|-------------|\n",
    "| Shc1-PTB_1OY2_0061_RTX73145433_2004.pdb | -181.271    |\n",
    "| Shc1-PTB_1OY2_0061_RTX73145433_1670.pdb | -175.014    |\n",
    "| Shc1-PTB_1OY2_0061_RTX73145433_2468.pdb | -174.888    |\n",
    "| Shc1-PTB_1OY2_0061_RTX73145433_3451.pdb | -174.707    |\n",
    "| Shc1-PTB_1OY2_0061_RTX73145433_0529.pdb | -174.689    |\n",
    "| Shc1-PTB_1OY2_0061_RTX73145433_1889.pdb | -173.494    |\n",
    "| Shc1-PTB_1OY2_0061_RTX73145433_1610.pdb | -172.676    |\n",
    "| Shc1-PTB_1OY2_0061_RTX73145433_0417.pdb | -172.376    |\n",
    "| Shc1-PTB_1OY2_0061_RTX73145433_1412.pdb | -171.933    |\n",
    "| Shc1-PTB_1OY2_0061_RTX73145433_3579.pdb | -171.669    |"
   ]
  },
  {
   "cell_type": "markdown",
   "metadata": {},
   "source": [
    "The csv version of this table is available [from this link](https://github.com/EthanHolleman/docking_results/blob/main/data/RTX73145433/best_poses_tables/RTXRTX73145433_best_ts.csv)"
   ]
  },
  {
   "cell_type": "markdown",
   "metadata": {},
   "source": [
    "[Link to Pymol session](https://github.com/EthanHolleman/docking_results/blob/main/data/RTX73145433/best_poses_pymol/total_score/top_10.pse)"
   ]
  },
  {
   "cell_type": "markdown",
   "metadata": {},
   "source": [
    "In general, when accessing ligands by total score, there is extremely strong preference for a \"hole\" hear residue 76."
   ]
  },
  {
   "cell_type": "markdown",
   "metadata": {},
   "source": [
    "![](images/RTX73145433_ts.png)"
   ]
  },
  {
   "cell_type": "markdown",
   "metadata": {},
   "source": [
    "### Best poses by interface delta x\n",
    "\n",
    "| Filename                                | Interface Delta X |\n",
    "|-----------------------------------------|-------------------|\n",
    "| Shc1-PTB_1OY2_0061_RTX73145433_2082.pdb | -24.12            |\n",
    "| Shc1-PTB_1OY2_0061_RTX73145433_2480.pdb | -23.709           |\n",
    "| Shc1-PTB_1OY2_0061_RTX73145433_2282.pdb | -23.628           |\n",
    "| Shc1-PTB_1OY2_0061_RTX73145433_2123.pdb | -23.275           |\n",
    "| Shc1-PTB_1OY2_0061_RTX73145433_3408.pdb | -23.015           |\n",
    "| Shc1-PTB_1OY2_0061_RTX73145433_0811.pdb | -22.881           |\n",
    "| Shc1-PTB_1OY2_0061_RTX73145433_1380.pdb | -22.648           |\n",
    "| Shc1-PTB_1OY2_0061_RTX73145433_2358.pdb | -22.411           |\n",
    "| Shc1-PTB_1OY2_0061_RTX73145433_2155.pdb | -22.266           |\n",
    "| Shc1-PTB_1OY2_0061_RTX73145433_0099.pdb | -22.186           |"
   ]
  },
  {
   "cell_type": "markdown",
   "metadata": {},
   "source": [
    "The csv version of this table is available [from this link](https://github.com/EthanHolleman/docking_results/blob/main/data/RTX73145433/best_poses_tables/RTXRTX73145433_best_idx.csv)"
   ]
  },
  {
   "cell_type": "markdown",
   "metadata": {},
   "source": [
    "[Link to Pymol session](https://github.com/EthanHolleman/docking_results/blob/main/data/RTX73145433/best_poses_pymol/interface_delta_x/top_10.pse)"
   ]
  },
  {
   "cell_type": "markdown",
   "metadata": {},
   "source": [
    "When accessing the best poses by lowest interface delta X ligands tend to cluster on the opposite side of Shc (comapred to clustering as measured by total score)\n",
    "\n",
    "![](images/RTX73145433_idx.png)"
   ]
  },
  {
   "cell_type": "markdown",
   "metadata": {},
   "source": [
    "However, some of these poses have very high total scores including some with positive values, while none of the best ligands as ranked by total score had a positive interface delta X."
   ]
  },
  {
   "cell_type": "markdown",
   "metadata": {},
   "source": [
    "When accessing using the combined metric, ligands generally look like those scored using only total score. This is shown in the figure below."
   ]
  },
  {
   "cell_type": "markdown",
   "metadata": {},
   "source": [
    "![](images/RTX73145433_c.png)"
   ]
  },
  {
   "cell_type": "markdown",
   "metadata": {},
   "source": [
    "## NPEYp Docking"
   ]
  }
 ],
 "metadata": {
  "kernelspec": {
   "display_name": "Python 3",
   "language": "python",
   "name": "python3"
  },
  "language_info": {
   "codemirror_mode": {
    "name": "ipython",
    "version": 3
   },
   "file_extension": ".py",
   "mimetype": "text/x-python",
   "name": "python",
   "nbconvert_exporter": "python",
   "pygments_lexer": "ipython3",
   "version": "3.8.5"
  }
 },
 "nbformat": 4,
 "nbformat_minor": 4
}
